{
 "cells": [
  {
   "cell_type": "code",
   "execution_count": 1,
   "id": "780da137",
   "metadata": {},
   "outputs": [
    {
     "name": "stderr",
     "output_type": "stream",
     "text": [
      "PyCBC.libutils: pkg-config call failed, setting NO_PKGCONFIG=1\n"
     ]
    }
   ],
   "source": [
    "%matplotlib inline\n",
    "import numpy as np\n",
    "import matplotlib.pyplot as plt\n",
    "import warnings\n",
    "warnings.filterwarnings(\"ignore\", \"Wswiglal-redir-stdio\")\n",
    "import lal\n",
    "import pycbc.noise\n",
    "import pycbc.psd as psd\n",
    "from pycbc.detector import Detector\n",
    "from astropy.cosmology import z_at_value,Planck15\n",
    "import astropy.units as u\n",
    "from pycbc.waveform import td_approximants, fd_approximants\n",
    "from pycbc import types, fft, waveform\n",
    "from scipy.special import gammainc\n",
    "import gwinc\n",
    "from os.path import join\n",
    "import tqdm\n",
    "from scipy.stats import chi2,ncx2\n",
    "\n",
    "blue='#08519c'\n",
    "green='#33a02c'\n",
    "red='#e31a1c'"
   ]
  },
  {
   "cell_type": "code",
   "execution_count": 2,
   "id": "9d14c339-ac7b-4e29-8906-efbddfee0bb7",
   "metadata": {},
   "outputs": [],
   "source": [
    "# Function to calculate PSD shamelessly copied from the following:\n",
    "# https://git.ligo.org/post-o5/post-o5-report/-/blob/e8ad18ea098fbbb17035dd110488ab11124ac38c/code/lib.py\n",
    "def calc_gwinc_budget(f_Hz, ifo_name, ifo_dir, bname=None):\n",
    "    budget = gwinc.load_budget(\n",
    "        join(ifo_dir, ifo_name + '.yaml'), f_Hz, bname=bname)\n",
    "    if 'AlGaAs' in ifo_name:\n",
    "        inherit_budget = gwinc.load_budget(\n",
    "            join(ifo_dir, 'AplusNoCoatTO'), freq=f_Hz, bname=bname)\n",
    "    elif 'tech_noise' in ifo_name:\n",
    "        inherit_budget = gwinc.load_budget(\n",
    "            join(ifo_dir, 'AplusTechNoise'), freq=f_Hz, bname=bname)\n",
    "    else:\n",
    "        inherit_budget = budget\n",
    "    return inherit_budget.run(ifo=budget.ifo)\n",
    "\n",
    "# Compute A-sharp PSD\n",
    "fmin = 3\n",
    "fmax = 6e3\n",
    "npts = 5000\n",
    "f_Hz = np.logspace(np.log10(fmin), np.log10(fmax), npts)\n",
    "traces = calc_gwinc_budget(f_Hz,'Asharp_AlGaAs','./../sensitivity-curves/ifos/')\n",
    "\n",
    "# Convert to pycbc FrequencySeries object\n",
    "psd_delta_f = 1./256\n",
    "psd_length = int(4096./psd_delta_f)\n",
    "psd_low_frequency_cutoff = 5.\n",
    "HL_psd = pycbc.psd.from_numpy_arrays(f_Hz,traces.psd,psd_length,psd_delta_f,psd_low_frequency_cutoff)"
   ]
  },
  {
   "cell_type": "code",
   "execution_count": 3,
   "id": "e03bddb5-d4b1-4abe-98c2-a90a34aa53d2",
   "metadata": {},
   "outputs": [
    {
     "data": {
      "image/png": "[encoded data removed]",
      "text/plain": [
       "<Figure size 640x480 with 1 Axes>"
      ]
     },
     "metadata": {},
     "output_type": "display_data"
    }
   ],
   "source": [
    "fig,ax = plt.subplots()\n",
    "ax.plot(f_Hz,traces.psd)\n",
    "ax.plot(HL_psd.sample_frequencies.data,HL_psd.data)\n",
    "ax.set_xscale('log')\n",
    "ax.set_yscale('log')"
   ]
  },
  {
   "cell_type": "code",
   "execution_count": 9,
   "id": "884fc136",
   "metadata": {},
   "outputs": [],
   "source": [
    "# Population parameters\n",
    "\n",
    "# BBH\n",
    "bbh_R_ref = 25.\n",
    "bbh_min_m1 = 5.\n",
    "bbh_max_m1 = 100.\n",
    "bbh_alpha_m1 = -3.\n",
    "bbh_min_m2 = 2.\n",
    "bbh_alpha_m2 = 1.\n",
    "bbh_zMax = 5\n",
    "\n",
    "# BNS\n",
    "bns_R_ref = 170.\n",
    "bns_zMax = 0.75\n",
    "\n",
    "# NSBH\n",
    "nsbh_R_ref = 30.\n",
    "nsbh_zMax = 1.5\n",
    "\n",
    "# Merger rate model\n",
    "z_alpha = 2.7\n",
    "z_peak = 2.\n",
    "z_beta = 3.\n",
    "\n",
    "def fz(z,alpha,beta,zp):\n",
    "    \"\"\"\n",
    "    Function implementing a Madau+Dickinson-like star formation rate.\n",
    "    Note that this function computes only the *shape* of the SFR, and does\n",
    "    not include a normalization\n",
    "    \"\"\"\n",
    "    f_z = (1.+z)**alpha/(1.+((1.+z)/(1.+zp))**(alpha+beta))\n",
    "    return f_z\n",
    "\n",
    "def draw_bbh_masses():\n",
    "    \"\"\"\n",
    "    Function to randomly draw two masses from our toy bbh distribution\n",
    "    \"\"\"\n",
    "    c_m1 = np.random.random()\n",
    "    c_m2 = np.random.random()\n",
    "    m1 = (bbh_min_m1**(1.+bbh_alpha_m1) + c_m1*(bbh_max_m1**(1.+bbh_alpha_m1)-bbh_min_m1**(1.+bbh_alpha_m1)))**(1./(1.+bbh_alpha_m1))\n",
    "    m2 = (bbh_min_m2**(1.+bbh_alpha_m2) + c_m2*(m1**(1.+bbh_alpha_m2)-bbh_min_m2**(1.+bbh_alpha_m2)))**(1./(1.+bbh_alpha_m2)) \n",
    "    return m1,m2\n",
    "\n",
    "def draw_bns_masses():\n",
    "    \"\"\"\n",
    "    Function to randomly draw two masses from our toy bns distribution\n",
    "    \"\"\"\n",
    "    return 1.4,1.4\n",
    "\n",
    "def draw_nsbh_masses():\n",
    "    \"\"\"\n",
    "    Function to randomly draw two masses from our toy bbh distribution\n",
    "    \"\"\"\n",
    "    c_m1 = np.random.random()\n",
    "    m1 = (bbh_min_m1**(1.+bbh_alpha_m1) + c_m1*(bbh_max_m1**(1.+bbh_alpha_m1)-bbh_min_m1**(1.+bbh_alpha_m1)))**(1./(1.+bbh_alpha_m1))\n",
    "    return m1,1.4\n",
    "\n",
    "def draw_params(type='BBH'):\n",
    "\n",
    "    \"\"\"\n",
    "    Helper function to randomly draw sets of CBC parameters.\n",
    "    Used by `draw_hopeless()` and `draw_certain()` below to generate additional undetectable CBCs\n",
    "    to assist in neural network training.\n",
    "\n",
    "    Parameters\n",
    "    ----------\n",
    "    DL_max : `float`\n",
    "        Maximum distance to consider, in Mpc (default 15e3)\n",
    "    dist : `str`\n",
    "        If 'uniform' (default), will draw uniform source-frame component masses. Otherwise\n",
    "        will draw masses according to O3 injection distribution\n",
    "\n",
    "    Returns\n",
    "    -------\n",
    "    paramDict : `dict`\n",
    "        Dictionary containing randomly drawn component masses, Cartesian spins, sky position,\n",
    "        source orientation, distance, and time. Note that the provided masses are in the *detector frame*.\n",
    "    \"\"\"\n",
    "\n",
    "    # Draw masses and spin magnitudes\n",
    "    if type==\"BBH\":\n",
    "        m1,m2 = draw_bbh_masses()\n",
    "        a1 = np.random.random()\n",
    "        a2 = np.random.random()\n",
    "        zMax = bbh_zMax\n",
    "\n",
    "    elif type==\"BNS\":\n",
    "        m1,m2 = draw_bns_masses()\n",
    "        a1 = 0.1*np.random.random()\n",
    "        a2 = 0.1*np.random.random()    \n",
    "        zMax = bns_zMax\n",
    "\n",
    "    elif type==\"NSBH\":\n",
    "        m1,m2 = draw_nsbh_masses()\n",
    "        a1 = np.random.random()\n",
    "        a2 = 0.1*np.random.random() \n",
    "        zMax = nsbh_zMax\n",
    "\n",
    "    # Isotropic spins\n",
    "    cost1 = 2.*np.random.random()-1.\n",
    "    cost2 = 2.*np.random.random()-1.\n",
    "    phi1 = 2.*np.pi*np.random.random()\n",
    "    phi2 = 2.*np.pi*np.random.random()\n",
    "\n",
    "    # Isotropic sky position and orientation\n",
    "    cos_inc = 2.*np.random.random()-1.\n",
    "    ra = 2.*np.pi*np.random.random()\n",
    "    sin_dec = 2.*np.random.random()-1.\n",
    "    pol = 2.*np.pi*np.random.random()\n",
    "\n",
    "    # Draw redshifts\n",
    "    z_grid = np.linspace(0,zMax,300)\n",
    "    dVdz_grid = 4.*np.pi*Planck15.differential_comoving_volume(z_grid).to(u.Gpc**3*u.sr**(-1)).value\n",
    "    p_z_grid = dVdz_grid*fz(z_grid,z_alpha,z_beta,z_peak)/(1.+z_grid)\n",
    "    c_z_grid = np.cumsum(p_z_grid)\n",
    "    c_z_grid /= c_z_grid[-1]\n",
    "    z = np.interp(np.random.random(),c_z_grid,z_grid)\n",
    "    DL = Planck15.luminosity_distance(z).to(u.Mpc).value\n",
    "\n",
    "    # Get a random time across O3\n",
    "    O3_start = 1238166018\n",
    "    O3_end = 1269363618\n",
    "    time = np.random.random()*(O3_end-O3_start) + O3_start\n",
    "    \n",
    "    # Package it all in a dictionary and return\n",
    "    # Note that these dictionary keys need to correspond to parameters expected by `get_fd_waveform` in `get_snrs()` below\n",
    "    paramDict = {'mass1':m1*(1.+z),\n",
    "                'mass2':m2*(1.+z),\n",
    "                'distance':DL,\n",
    "                'redshift':z,\n",
    "                'spin1x':a1*np.sqrt(1.-cost1**2)*np.cos(phi1),\n",
    "                'spin1y':a1*np.sqrt(1.-cost1**2)*np.sin(phi1),\n",
    "                'spin1z':a1*cost1,\n",
    "                'spin2x':a2*np.sqrt(1.-cost2**2)*np.cos(phi2),\n",
    "                'spin2y':a2*np.sqrt(1.-cost2**2)*np.sin(phi2),\n",
    "                'spin2z':a2*cost2,\n",
    "                'right_ascension':ra,\n",
    "                'declination':np.arcsin(sin_dec),\n",
    "                'polarization':pol,\n",
    "                'inclination':np.arccos(cos_inc),\n",
    "                'time':time}\n",
    "\n",
    "    return paramDict\n",
    "\n",
    "def get_snrs(paramDict,H1_psd):\n",
    "\n",
    "    \"\"\"\n",
    "    Function to compute the expected SNR of a BBH in O3.\n",
    "    Used in conjunction with `draw_hopeless()` defined below to generate additional hopeless injections\n",
    "    to assist in neural network training.\n",
    "\n",
    "    Parameters\n",
    "    ----------\n",
    "    paramDict : `dict`\n",
    "        Dictionary of BBH parameters, as produced by `draw_params()`.\n",
    "    H_psd : `pycbc.types.frequencyseries.FrequencySeries`\n",
    "        Frequency series representing H1 O3 PSD\n",
    "    L_psd : `pycbc.types.frequencyseries.FrequencySeries`\n",
    "        Frequency series representing L1 O3 PSD\n",
    "        \n",
    "    Returns\n",
    "    -------\n",
    "    snr : `float`\n",
    "        H1L1 network SNR expected from the given set of BBH parameters\n",
    "    \"\"\"\n",
    "\n",
    "    # Generate waveform\n",
    "    delta_f=1./16.\n",
    "    sptilde, sctilde = waveform.get_fd_waveform(approximant=\"IMRPhenomPv2\",\n",
    "                                                template=paramDict,\n",
    "                                                delta_f=delta_f,\n",
    "                                                f_lower=5.)\n",
    "\n",
    "    # Project onto detectors\n",
    "    H1 = Detector(\"H1\")\n",
    "    L1 = Detector(\"L1\")\n",
    "    Fhp,Fhc = H1.antenna_pattern(paramDict['right_ascension'],paramDict['declination'],paramDict['polarization'],paramDict['time'])\n",
    "    Flp,Flc = L1.antenna_pattern(paramDict['right_ascension'],paramDict['declination'],paramDict['polarization'],paramDict['time'])\n",
    "    h_H1 = Fhp*sptilde + Fhc*sctilde\n",
    "    h_L1 = Flp*sptilde + Flc*sctilde\n",
    "    \n",
    "    # Project onto detectors\n",
    "    H1 = Detector(\"H1\")\n",
    "    L1 = Detector(\"L1\")\n",
    "    Fhp,Fhc = H1.antenna_pattern(paramDict['right_ascension'],paramDict['declination'],paramDict['polarization'],paramDict['time'])\n",
    "    Flp,Flc = L1.antenna_pattern(paramDict['right_ascension'],paramDict['declination'],paramDict['polarization'],paramDict['time'])\n",
    "    h_H1 = Fhp*sptilde + Fhc*sctilde\n",
    "    h_L1 = Flp*sptilde + Flc*sctilde\n",
    "\n",
    "    # Interpolate PSDs\n",
    "    # If PSD extends to higher frequencies than the GW signal, trim as necessary\n",
    "    psd_H1_interpolated = psd.interpolate(H1_psd,h_H1.delta_f)\n",
    "    if len(psd_H1_interpolated)>len(h_H1):\n",
    "        psd_H1_interpolated = psd.interpolate(H1_psd,h_H1.delta_f)[:len(h_H1)]\n",
    "    else:\n",
    "        psd_H1_interpolated_tmp = types.FrequencySeries(types.zeros(len(h_H1)),delta_f=h_H1.delta_f)\n",
    "        psd_H1_interpolated_tmp[0:len(psd_H1_interpolated)] = psd_H1_interpolated\n",
    "        psd_H1_interpolated = psd_H1_interpolated_tmp\n",
    "\n",
    "    # Compute expected SNRs and use to draw random observed network SNR from non-central chi-squared distribution\n",
    "    # Note that PSDs are reported as identically zero in regions where they are in fact undefined,\n",
    "    # so cut on frequencies at which PSDs are above zero\n",
    "    snr_H1_sq = 4.*h_H1.delta_f*np.sum(np.array(np.abs(h_H1)**2/psd_H1_interpolated)[psd_H1_interpolated[()]>0.])\n",
    "    snr_L1_sq = 4.*h_L1.delta_f*np.sum(np.array(np.abs(h_L1)**2/psd_H1_interpolated)[psd_H1_interpolated[()]>0.])\n",
    "    network_snr_sq = ncx2.rvs(2,snr_H1_sq+snr_L1_sq)\n",
    "    return np.sqrt(network_snr_sq)\n",
    "\n",
    "def detection_rate(zMax,nFound,nTotal,R_ref,z_ref):\n",
    "\n",
    "    \"\"\"\n",
    "    Helper function to compute inferred detection rates, given a certain number of found injections\n",
    "    and total trials. R_ref is the total source-frame volumetric rate at z=0.2\n",
    "    \"\"\"\n",
    "\n",
    "    # Compute total integrated detector-frame rate\n",
    "    z_grid = np.linspace(0,zMax,1000)\n",
    "    dVdz_grid = 4.*np.pi*Planck15.differential_comoving_volume(z_grid).to(u.Gpc**3*u.sr**(-1)).value\n",
    "    f_z_integral = np.trapz(dVdz_grid*fz(z_grid,z_alpha,z_beta,z_peak)/(1.+z_grid),z_grid)\n",
    "    R_tot = R_ref*(f_z_integral/fz(z_ref,z_alpha,z_beta,z_peak))\n",
    "\n",
    "    # Estimated detection probability\n",
    "    p_det = nFound/nTotal\n",
    "    \n",
    "    # Yearly detection rate\n",
    "    R_det = R_tot*p_det\n",
    "\n",
    "    # Compute variance in expected number of detections, and corresponding uncertainty on p_det\n",
    "    var_nFound = nTotal*p_det*(1.-p_det)\n",
    "    p_det_uncertainty = np.sqrt(var_nFound)/nTotal\n",
    "\n",
    "    return p_det,R_det,R_tot*p_det_uncertainty"
   ]
  },
  {
   "cell_type": "code",
   "execution_count": 13,
   "id": "d899a3a9-295a-47fb-a417-d011a56dcdca",
   "metadata": {},
   "outputs": [
    {
     "name": "stderr",
     "output_type": "stream",
     "text": [
      "100%|██████████████████████████████████████████████████████████████████████████████████████████████████████████████████████████████| 3000/3000 [05:24<00:00,  9.25it/s]"
     ]
    },
    {
     "name": "stdout",
     "output_type": "stream",
     "text": [
      "0.05266666666666667 3334.074637377933 258.1654875182279\n",
      "3.3689804629391094\n"
     ]
    },
    {
     "name": "stderr",
     "output_type": "stream",
     "text": [
      "\n"
     ]
    }
   ],
   "source": [
    "bbh_nFound = 0\n",
    "bbh_nTotal = 3000\n",
    "highest_z = 0\n",
    "for i in tqdm.tqdm(range(bbh_nTotal)):\n",
    "    \n",
    "    x = draw_params('BBH')\n",
    "    network_snr = get_snrs(x,HL_psd)\n",
    "    if network_snr>10:\n",
    "        bbh_nFound += 1\n",
    "        highest_z = max(highest_z,x['redshift'])\n",
    "\n",
    "bbh_p_det,bbh_R_det,bbh_R_det_uncertainty = detection_rate(bbh_zMax,bbh_nFound,bbh_nTotal,bbh_R_ref,0.2)\n",
    "print(bbh_p_det,bbh_R_det,bbh_R_det_uncertainty)\n",
    "print(highest_z)"
   ]
  },
  {
   "cell_type": "code",
   "execution_count": 10,
   "id": "e1e6d4f8-4ea2-4a3e-b9a4-9097d0e11e1d",
   "metadata": {},
   "outputs": [
    {
     "name": "stderr",
     "output_type": "stream",
     "text": [
      "  0%|                                                                                                                                         | 0/5000 [00:00<?, ?it/s]/opt/miniconda3/envs/post-O5-rates/lib/python3.8/site-packages/pycbc/types/array.py:383: RuntimeWarning: divide by zero encountered in divide\n",
      "  return self._data / other\n",
      "/opt/miniconda3/envs/post-O5-rates/lib/python3.8/site-packages/pycbc/types/array.py:383: RuntimeWarning: invalid value encountered in divide\n",
      "  return self._data / other\n",
      "100%|██████████████████████████████████████████████████████████████████████████████████████████████████████████████████████████████| 5000/5000 [08:05<00:00, 10.29it/s]"
     ]
    },
    {
     "name": "stdout",
     "output_type": "stream",
     "text": [
      "0.0118 346.71138002432895 44.870872629629545\n"
     ]
    },
    {
     "name": "stderr",
     "output_type": "stream",
     "text": [
      "\n"
     ]
    }
   ],
   "source": [
    "bns_nFound = 0\n",
    "bns_nTotal = 5000\n",
    "highest_z = 0\n",
    "for i in tqdm.tqdm(range(bns_nTotal)):\n",
    "    \n",
    "    x = draw_params('BNS')\n",
    "    network_snr = get_snrs(x,HL_psd)\n",
    "    if network_snr>10:\n",
    "        bns_nFound += 1\n",
    "        highest_z = max(highest_z,x['redshift'])\n",
    "\n",
    "bns_p_det,bns_R_det,bns_R_det_uncertainty = detection_rate(bns_zMax,bns_nFound,bns_nTotal,bns_R_ref,0.)\n",
    "print(bns_p_det,bns_R_det,bns_R_det_uncertainty)"
   ]
  },
  {
   "cell_type": "code",
   "execution_count": 11,
   "id": "60109625-133d-40f2-b6a7-07ac8d19b660",
   "metadata": {},
   "outputs": [
    {
     "name": "stderr",
     "output_type": "stream",
     "text": [
      "100%|██████████████████████████████████████████████████████████████████████████████████████████████████████████████████████████████| 5000/5000 [13:55<00:00,  5.98it/s]"
     ]
    },
    {
     "name": "stdout",
     "output_type": "stream",
     "text": [
      "0.0102 334.5181169030414 46.60239965985216\n"
     ]
    },
    {
     "name": "stderr",
     "output_type": "stream",
     "text": [
      "\n"
     ]
    }
   ],
   "source": [
    "nsbh_nFound = 0\n",
    "nsbh_nTotal = 5000\n",
    "highest_z = 0\n",
    "for i in tqdm.tqdm(range(nsbh_nTotal)):\n",
    "    \n",
    "    x = draw_params('NSBH')\n",
    "    network_snr = get_snrs(x,HL_psd)\n",
    "    if network_snr>10:\n",
    "        nsbh_nFound += 1\n",
    "        highest_z = max(highest_z,x['redshift'])\n",
    "\n",
    "nsbh_p_det,nsbh_R_det,nsbh_R_det_uncertainty = detection_rate(nsbh_zMax,nsbh_nFound,nsbh_nTotal,nsbh_R_ref,0.)\n",
    "print(nsbh_p_det,nsbh_R_det,nsbh_R_det_uncertainty)"
   ]
  },
  {
   "cell_type": "code",
   "execution_count": 14,
   "id": "cbd96809-55f1-4d27-b29f-8c2557855cc0",
   "metadata": {},
   "outputs": [
    {
     "name": "stdout",
     "output_type": "stream",
     "text": [
      "BBH detection rate (1/yr):\t3.3e+03 +/- 2.6e+02\n",
      "BNS detection rate (1/yr):\t3.5e+02 +/- 4.5e+01\n",
      "NSBH detection rate (1/yr):\t3.3e+02 +/- 4.7e+01\n"
     ]
    }
   ],
   "source": [
    "print(\"BBH detection rate (1/yr):\\t{0:.1e} +/- {1:.1e}\".format(bbh_R_det,bbh_R_det_uncertainty))\n",
    "print(\"BNS detection rate (1/yr):\\t{0:.1e} +/- {1:.1e}\".format(bns_R_det,bns_R_det_uncertainty))\n",
    "print(\"NSBH detection rate (1/yr):\\t{0:.1e} +/- {1:.1e}\".format(nsbh_R_det,nsbh_R_det_uncertainty))"
   ]
  },
  {
   "cell_type": "code",
   "execution_count": null,
   "id": "93c953d1-dc1e-49ab-999e-b70abe3d8a34",
   "metadata": {},
   "outputs": [],
   "source": []
  }
 ],
 "metadata": {
  "kernelspec": {
   "display_name": "Python 3 (ipykernel)",
   "language": "python",
   "name": "python3"
  },
  "language_info": {
   "codemirror_mode": {
    "name": "ipython",
    "version": 3
   },
   "file_extension": ".py",
   "mimetype": "text/x-python",
   "name": "python",
   "nbconvert_exporter": "python",
   "pygments_lexer": "ipython3",
   "version": "3.8.18"
  }
 },
 "nbformat": 4,
 "nbformat_minor": 5
}
